{
 "cells": [
  {
   "cell_type": "code",
   "execution_count": 1,
   "id": "4f97d3ae",
   "metadata": {
    "ExecuteTime": {
     "end_time": "2021-06-10T02:36:03.871490Z",
     "start_time": "2021-06-10T02:35:57.064674Z"
    }
   },
   "outputs": [],
   "source": [
    "import pandas as pd\n",
    "import numpy as np\n",
    "import seaborn as sns\n",
    "import matplotlib.pyplot as plt\n",
    "%matplotlib inline\n",
    "from sklearn.feature_selection import SelectKBest\n",
    "from sklearn.feature_selection import chi2"
   ]
  },
  {
   "cell_type": "code",
   "execution_count": 2,
   "id": "fb4aef85",
   "metadata": {
    "ExecuteTime": {
     "end_time": "2021-06-10T02:36:04.063372Z",
     "start_time": "2021-06-10T02:36:03.876486Z"
    }
   },
   "outputs": [],
   "source": [
    "df= pd.read_csv(\"SalaryData_Train(1).csv\")\n"
   ]
  },
  {
   "cell_type": "code",
   "execution_count": 3,
   "id": "db046a9a",
   "metadata": {
    "ExecuteTime": {
     "end_time": "2021-06-10T02:36:04.126334Z",
     "start_time": "2021-06-10T02:36:04.068368Z"
    }
   },
   "outputs": [
    {
     "data": {
      "text/html": [
       "<div>\n",
       "<style scoped>\n",
       "    .dataframe tbody tr th:only-of-type {\n",
       "        vertical-align: middle;\n",
       "    }\n",
       "\n",
       "    .dataframe tbody tr th {\n",
       "        vertical-align: top;\n",
       "    }\n",
       "\n",
       "    .dataframe thead th {\n",
       "        text-align: right;\n",
       "    }\n",
       "</style>\n",
       "<table border=\"1\" class=\"dataframe\">\n",
       "  <thead>\n",
       "    <tr style=\"text-align: right;\">\n",
       "      <th></th>\n",
       "      <th>age</th>\n",
       "      <th>workclass</th>\n",
       "      <th>education</th>\n",
       "      <th>educationno</th>\n",
       "      <th>maritalstatus</th>\n",
       "      <th>occupation</th>\n",
       "      <th>relationship</th>\n",
       "      <th>race</th>\n",
       "      <th>sex</th>\n",
       "      <th>capitalgain</th>\n",
       "      <th>capitalloss</th>\n",
       "      <th>hoursperweek</th>\n",
       "      <th>native</th>\n",
       "      <th>Salary</th>\n",
       "    </tr>\n",
       "  </thead>\n",
       "  <tbody>\n",
       "    <tr>\n",
       "      <th>0</th>\n",
       "      <td>39</td>\n",
       "      <td>State-gov</td>\n",
       "      <td>Bachelors</td>\n",
       "      <td>13</td>\n",
       "      <td>Never-married</td>\n",
       "      <td>Adm-clerical</td>\n",
       "      <td>Not-in-family</td>\n",
       "      <td>White</td>\n",
       "      <td>Male</td>\n",
       "      <td>2174</td>\n",
       "      <td>0</td>\n",
       "      <td>40</td>\n",
       "      <td>United-States</td>\n",
       "      <td>&lt;=50K</td>\n",
       "    </tr>\n",
       "    <tr>\n",
       "      <th>1</th>\n",
       "      <td>50</td>\n",
       "      <td>Self-emp-not-inc</td>\n",
       "      <td>Bachelors</td>\n",
       "      <td>13</td>\n",
       "      <td>Married-civ-spouse</td>\n",
       "      <td>Exec-managerial</td>\n",
       "      <td>Husband</td>\n",
       "      <td>White</td>\n",
       "      <td>Male</td>\n",
       "      <td>0</td>\n",
       "      <td>0</td>\n",
       "      <td>13</td>\n",
       "      <td>United-States</td>\n",
       "      <td>&lt;=50K</td>\n",
       "    </tr>\n",
       "    <tr>\n",
       "      <th>2</th>\n",
       "      <td>38</td>\n",
       "      <td>Private</td>\n",
       "      <td>HS-grad</td>\n",
       "      <td>9</td>\n",
       "      <td>Divorced</td>\n",
       "      <td>Handlers-cleaners</td>\n",
       "      <td>Not-in-family</td>\n",
       "      <td>White</td>\n",
       "      <td>Male</td>\n",
       "      <td>0</td>\n",
       "      <td>0</td>\n",
       "      <td>40</td>\n",
       "      <td>United-States</td>\n",
       "      <td>&lt;=50K</td>\n",
       "    </tr>\n",
       "    <tr>\n",
       "      <th>3</th>\n",
       "      <td>53</td>\n",
       "      <td>Private</td>\n",
       "      <td>11th</td>\n",
       "      <td>7</td>\n",
       "      <td>Married-civ-spouse</td>\n",
       "      <td>Handlers-cleaners</td>\n",
       "      <td>Husband</td>\n",
       "      <td>Black</td>\n",
       "      <td>Male</td>\n",
       "      <td>0</td>\n",
       "      <td>0</td>\n",
       "      <td>40</td>\n",
       "      <td>United-States</td>\n",
       "      <td>&lt;=50K</td>\n",
       "    </tr>\n",
       "    <tr>\n",
       "      <th>4</th>\n",
       "      <td>28</td>\n",
       "      <td>Private</td>\n",
       "      <td>Bachelors</td>\n",
       "      <td>13</td>\n",
       "      <td>Married-civ-spouse</td>\n",
       "      <td>Prof-specialty</td>\n",
       "      <td>Wife</td>\n",
       "      <td>Black</td>\n",
       "      <td>Female</td>\n",
       "      <td>0</td>\n",
       "      <td>0</td>\n",
       "      <td>40</td>\n",
       "      <td>Cuba</td>\n",
       "      <td>&lt;=50K</td>\n",
       "    </tr>\n",
       "  </tbody>\n",
       "</table>\n",
       "</div>"
      ],
      "text/plain": [
       "   age          workclass   education  educationno        maritalstatus  \\\n",
       "0   39          State-gov   Bachelors           13        Never-married   \n",
       "1   50   Self-emp-not-inc   Bachelors           13   Married-civ-spouse   \n",
       "2   38            Private     HS-grad            9             Divorced   \n",
       "3   53            Private        11th            7   Married-civ-spouse   \n",
       "4   28            Private   Bachelors           13   Married-civ-spouse   \n",
       "\n",
       "           occupation    relationship    race      sex  capitalgain  \\\n",
       "0        Adm-clerical   Not-in-family   White     Male         2174   \n",
       "1     Exec-managerial         Husband   White     Male            0   \n",
       "2   Handlers-cleaners   Not-in-family   White     Male            0   \n",
       "3   Handlers-cleaners         Husband   Black     Male            0   \n",
       "4      Prof-specialty            Wife   Black   Female            0   \n",
       "\n",
       "   capitalloss  hoursperweek          native  Salary  \n",
       "0            0            40   United-States   <=50K  \n",
       "1            0            13   United-States   <=50K  \n",
       "2            0            40   United-States   <=50K  \n",
       "3            0            40   United-States   <=50K  \n",
       "4            0            40            Cuba   <=50K  "
      ]
     },
     "execution_count": 3,
     "metadata": {},
     "output_type": "execute_result"
    }
   ],
   "source": [
    "df.head()"
   ]
  },
  {
   "cell_type": "code",
   "execution_count": 4,
   "id": "9f01ad0c",
   "metadata": {
    "ExecuteTime": {
     "end_time": "2021-06-10T02:36:04.219276Z",
     "start_time": "2021-06-10T02:36:04.140324Z"
    }
   },
   "outputs": [
    {
     "data": {
      "text/plain": [
       " <=50K    22653\n",
       " >50K      7508\n",
       "Name: Salary, dtype: int64"
      ]
     },
     "execution_count": 4,
     "metadata": {},
     "output_type": "execute_result"
    }
   ],
   "source": [
    "df.Salary.value_counts()"
   ]
  },
  {
   "cell_type": "code",
   "execution_count": 5,
   "id": "fc883934",
   "metadata": {
    "ExecuteTime": {
     "end_time": "2021-06-10T02:36:04.301226Z",
     "start_time": "2021-06-10T02:36:04.227274Z"
    }
   },
   "outputs": [
    {
     "name": "stdout",
     "output_type": "stream",
     "text": [
      "<class 'pandas.core.frame.DataFrame'>\n",
      "RangeIndex: 30161 entries, 0 to 30160\n",
      "Data columns (total 14 columns):\n",
      " #   Column         Non-Null Count  Dtype \n",
      "---  ------         --------------  ----- \n",
      " 0   age            30161 non-null  int64 \n",
      " 1   workclass      30161 non-null  object\n",
      " 2   education      30161 non-null  object\n",
      " 3   educationno    30161 non-null  int64 \n",
      " 4   maritalstatus  30161 non-null  object\n",
      " 5   occupation     30161 non-null  object\n",
      " 6   relationship   30161 non-null  object\n",
      " 7   race           30161 non-null  object\n",
      " 8   sex            30161 non-null  object\n",
      " 9   capitalgain    30161 non-null  int64 \n",
      " 10  capitalloss    30161 non-null  int64 \n",
      " 11  hoursperweek   30161 non-null  int64 \n",
      " 12  native         30161 non-null  object\n",
      " 13  Salary         30161 non-null  object\n",
      "dtypes: int64(5), object(9)\n",
      "memory usage: 3.2+ MB\n"
     ]
    }
   ],
   "source": [
    "df.info()"
   ]
  },
  {
   "cell_type": "code",
   "execution_count": 6,
   "id": "2a2c816c",
   "metadata": {
    "ExecuteTime": {
     "end_time": "2021-06-10T02:36:04.333205Z",
     "start_time": "2021-06-10T02:36:04.305222Z"
    }
   },
   "outputs": [
    {
     "data": {
      "text/plain": [
       " <=50K    22653\n",
       " >50K      7508\n",
       "Name: Salary, dtype: int64"
      ]
     },
     "execution_count": 6,
     "metadata": {},
     "output_type": "execute_result"
    }
   ],
   "source": [
    "df.Salary.value_counts()"
   ]
  },
  {
   "cell_type": "code",
   "execution_count": 7,
   "id": "33cb330f",
   "metadata": {
    "ExecuteTime": {
     "end_time": "2021-06-10T02:36:04.365187Z",
     "start_time": "2021-06-10T02:36:04.346197Z"
    }
   },
   "outputs": [
    {
     "name": "stdout",
     "output_type": "stream",
     "text": [
      "{' Farming-fishing', ' Other-service', ' Sales', ' Craft-repair', ' Adm-clerical', ' Prof-specialty', ' Protective-serv', ' Transport-moving', ' Exec-managerial', ' Priv-house-serv', ' Tech-support', ' Armed-Forces', ' Handlers-cleaners', ' Machine-op-inspct'}\n"
     ]
    }
   ],
   "source": [
    "occupations=set(df['occupation'])\n",
    "print(occupations)"
   ]
  },
  {
   "cell_type": "code",
   "execution_count": 8,
   "id": "5ec392a4",
   "metadata": {
    "ExecuteTime": {
     "end_time": "2021-06-10T02:36:04.414157Z",
     "start_time": "2021-06-10T02:36:04.372182Z"
    }
   },
   "outputs": [
    {
     "data": {
      "text/plain": [
       "array([' Adm-clerical', ' Exec-managerial', ' Handlers-cleaners',\n",
       "       ' Prof-specialty', ' Other-service', ' Sales', ' Transport-moving',\n",
       "       ' Farming-fishing', ' Machine-op-inspct', ' Tech-support',\n",
       "       ' Craft-repair', ' Protective-serv', ' Armed-Forces',\n",
       "       ' Priv-house-serv'], dtype=object)"
      ]
     },
     "execution_count": 8,
     "metadata": {},
     "output_type": "execute_result"
    }
   ],
   "source": [
    "df.occupation.unique()"
   ]
  },
  {
   "cell_type": "code",
   "execution_count": 9,
   "id": "4f07e1dd",
   "metadata": {
    "ExecuteTime": {
     "end_time": "2021-06-10T02:36:04.461131Z",
     "start_time": "2021-06-10T02:36:04.426148Z"
    }
   },
   "outputs": [],
   "source": [
    "df['occupation']=df['occupation'].map({' Adm-clerical':0, ' Exec-managerial':1, ' Handlers-cleaners':2,\n",
    "       ' Prof-specialty':3, ' Other-service':4, ' Sales':5, ' Transport-moving':6,\n",
    "       ' Farming-fishing':7, ' Machine-op-inspct':8, ' Tech-support':9,\n",
    "       ' Craft-repair':10, ' Protective-serv':11, ' Armed-Forces':12,\n",
    "       ' Priv-house-serv':13})"
   ]
  },
  {
   "cell_type": "code",
   "execution_count": 10,
   "id": "0916dada",
   "metadata": {
    "ExecuteTime": {
     "end_time": "2021-06-10T02:36:04.512094Z",
     "start_time": "2021-06-10T02:36:04.478117Z"
    }
   },
   "outputs": [
    {
     "data": {
      "text/plain": [
       "array([' <=50K', ' >50K'], dtype=object)"
      ]
     },
     "execution_count": 10,
     "metadata": {},
     "output_type": "execute_result"
    }
   ],
   "source": [
    "df.Salary.unique()"
   ]
  },
  {
   "cell_type": "code",
   "execution_count": 11,
   "id": "54135304",
   "metadata": {
    "ExecuteTime": {
     "end_time": "2021-06-10T02:36:04.713974Z",
     "start_time": "2021-06-10T02:36:04.523089Z"
    }
   },
   "outputs": [
    {
     "data": {
      "text/html": [
       "<div>\n",
       "<style scoped>\n",
       "    .dataframe tbody tr th:only-of-type {\n",
       "        vertical-align: middle;\n",
       "    }\n",
       "\n",
       "    .dataframe tbody tr th {\n",
       "        vertical-align: top;\n",
       "    }\n",
       "\n",
       "    .dataframe thead th {\n",
       "        text-align: right;\n",
       "    }\n",
       "</style>\n",
       "<table border=\"1\" class=\"dataframe\">\n",
       "  <thead>\n",
       "    <tr style=\"text-align: right;\">\n",
       "      <th></th>\n",
       "      <th>age</th>\n",
       "      <th>workclass</th>\n",
       "      <th>education</th>\n",
       "      <th>educationno</th>\n",
       "      <th>maritalstatus</th>\n",
       "      <th>occupation</th>\n",
       "      <th>relationship</th>\n",
       "      <th>race</th>\n",
       "      <th>sex</th>\n",
       "      <th>capitalgain</th>\n",
       "      <th>capitalloss</th>\n",
       "      <th>hoursperweek</th>\n",
       "      <th>native</th>\n",
       "      <th>Salary</th>\n",
       "    </tr>\n",
       "  </thead>\n",
       "  <tbody>\n",
       "    <tr>\n",
       "      <th>0</th>\n",
       "      <td>39</td>\n",
       "      <td>State-gov</td>\n",
       "      <td>Bachelors</td>\n",
       "      <td>13</td>\n",
       "      <td>Never-married</td>\n",
       "      <td>0</td>\n",
       "      <td>Not-in-family</td>\n",
       "      <td>White</td>\n",
       "      <td>Male</td>\n",
       "      <td>2174</td>\n",
       "      <td>0</td>\n",
       "      <td>40</td>\n",
       "      <td>United-States</td>\n",
       "      <td>&lt;=50K</td>\n",
       "    </tr>\n",
       "    <tr>\n",
       "      <th>1</th>\n",
       "      <td>50</td>\n",
       "      <td>Self-emp-not-inc</td>\n",
       "      <td>Bachelors</td>\n",
       "      <td>13</td>\n",
       "      <td>Married-civ-spouse</td>\n",
       "      <td>1</td>\n",
       "      <td>Husband</td>\n",
       "      <td>White</td>\n",
       "      <td>Male</td>\n",
       "      <td>0</td>\n",
       "      <td>0</td>\n",
       "      <td>13</td>\n",
       "      <td>United-States</td>\n",
       "      <td>&lt;=50K</td>\n",
       "    </tr>\n",
       "    <tr>\n",
       "      <th>2</th>\n",
       "      <td>38</td>\n",
       "      <td>Private</td>\n",
       "      <td>HS-grad</td>\n",
       "      <td>9</td>\n",
       "      <td>Divorced</td>\n",
       "      <td>2</td>\n",
       "      <td>Not-in-family</td>\n",
       "      <td>White</td>\n",
       "      <td>Male</td>\n",
       "      <td>0</td>\n",
       "      <td>0</td>\n",
       "      <td>40</td>\n",
       "      <td>United-States</td>\n",
       "      <td>&lt;=50K</td>\n",
       "    </tr>\n",
       "    <tr>\n",
       "      <th>3</th>\n",
       "      <td>53</td>\n",
       "      <td>Private</td>\n",
       "      <td>11th</td>\n",
       "      <td>7</td>\n",
       "      <td>Married-civ-spouse</td>\n",
       "      <td>2</td>\n",
       "      <td>Husband</td>\n",
       "      <td>Black</td>\n",
       "      <td>Male</td>\n",
       "      <td>0</td>\n",
       "      <td>0</td>\n",
       "      <td>40</td>\n",
       "      <td>United-States</td>\n",
       "      <td>&lt;=50K</td>\n",
       "    </tr>\n",
       "    <tr>\n",
       "      <th>4</th>\n",
       "      <td>28</td>\n",
       "      <td>Private</td>\n",
       "      <td>Bachelors</td>\n",
       "      <td>13</td>\n",
       "      <td>Married-civ-spouse</td>\n",
       "      <td>3</td>\n",
       "      <td>Wife</td>\n",
       "      <td>Black</td>\n",
       "      <td>Female</td>\n",
       "      <td>0</td>\n",
       "      <td>0</td>\n",
       "      <td>40</td>\n",
       "      <td>Cuba</td>\n",
       "      <td>&lt;=50K</td>\n",
       "    </tr>\n",
       "    <tr>\n",
       "      <th>...</th>\n",
       "      <td>...</td>\n",
       "      <td>...</td>\n",
       "      <td>...</td>\n",
       "      <td>...</td>\n",
       "      <td>...</td>\n",
       "      <td>...</td>\n",
       "      <td>...</td>\n",
       "      <td>...</td>\n",
       "      <td>...</td>\n",
       "      <td>...</td>\n",
       "      <td>...</td>\n",
       "      <td>...</td>\n",
       "      <td>...</td>\n",
       "      <td>...</td>\n",
       "    </tr>\n",
       "    <tr>\n",
       "      <th>30156</th>\n",
       "      <td>27</td>\n",
       "      <td>Private</td>\n",
       "      <td>Assoc-acdm</td>\n",
       "      <td>12</td>\n",
       "      <td>Married-civ-spouse</td>\n",
       "      <td>9</td>\n",
       "      <td>Wife</td>\n",
       "      <td>White</td>\n",
       "      <td>Female</td>\n",
       "      <td>0</td>\n",
       "      <td>0</td>\n",
       "      <td>38</td>\n",
       "      <td>United-States</td>\n",
       "      <td>&lt;=50K</td>\n",
       "    </tr>\n",
       "    <tr>\n",
       "      <th>30157</th>\n",
       "      <td>40</td>\n",
       "      <td>Private</td>\n",
       "      <td>HS-grad</td>\n",
       "      <td>9</td>\n",
       "      <td>Married-civ-spouse</td>\n",
       "      <td>8</td>\n",
       "      <td>Husband</td>\n",
       "      <td>White</td>\n",
       "      <td>Male</td>\n",
       "      <td>0</td>\n",
       "      <td>0</td>\n",
       "      <td>40</td>\n",
       "      <td>United-States</td>\n",
       "      <td>&gt;50K</td>\n",
       "    </tr>\n",
       "    <tr>\n",
       "      <th>30158</th>\n",
       "      <td>58</td>\n",
       "      <td>Private</td>\n",
       "      <td>HS-grad</td>\n",
       "      <td>9</td>\n",
       "      <td>Widowed</td>\n",
       "      <td>0</td>\n",
       "      <td>Unmarried</td>\n",
       "      <td>White</td>\n",
       "      <td>Female</td>\n",
       "      <td>0</td>\n",
       "      <td>0</td>\n",
       "      <td>40</td>\n",
       "      <td>United-States</td>\n",
       "      <td>&lt;=50K</td>\n",
       "    </tr>\n",
       "    <tr>\n",
       "      <th>30159</th>\n",
       "      <td>22</td>\n",
       "      <td>Private</td>\n",
       "      <td>HS-grad</td>\n",
       "      <td>9</td>\n",
       "      <td>Never-married</td>\n",
       "      <td>0</td>\n",
       "      <td>Own-child</td>\n",
       "      <td>White</td>\n",
       "      <td>Male</td>\n",
       "      <td>0</td>\n",
       "      <td>0</td>\n",
       "      <td>20</td>\n",
       "      <td>United-States</td>\n",
       "      <td>&lt;=50K</td>\n",
       "    </tr>\n",
       "    <tr>\n",
       "      <th>30160</th>\n",
       "      <td>52</td>\n",
       "      <td>Self-emp-inc</td>\n",
       "      <td>HS-grad</td>\n",
       "      <td>9</td>\n",
       "      <td>Married-civ-spouse</td>\n",
       "      <td>1</td>\n",
       "      <td>Wife</td>\n",
       "      <td>White</td>\n",
       "      <td>Female</td>\n",
       "      <td>15024</td>\n",
       "      <td>0</td>\n",
       "      <td>40</td>\n",
       "      <td>United-States</td>\n",
       "      <td>&gt;50K</td>\n",
       "    </tr>\n",
       "  </tbody>\n",
       "</table>\n",
       "<p>30161 rows × 14 columns</p>\n",
       "</div>"
      ],
      "text/plain": [
       "       age          workclass    education  educationno        maritalstatus  \\\n",
       "0       39          State-gov    Bachelors           13        Never-married   \n",
       "1       50   Self-emp-not-inc    Bachelors           13   Married-civ-spouse   \n",
       "2       38            Private      HS-grad            9             Divorced   \n",
       "3       53            Private         11th            7   Married-civ-spouse   \n",
       "4       28            Private    Bachelors           13   Married-civ-spouse   \n",
       "...    ...                ...          ...          ...                  ...   \n",
       "30156   27            Private   Assoc-acdm           12   Married-civ-spouse   \n",
       "30157   40            Private      HS-grad            9   Married-civ-spouse   \n",
       "30158   58            Private      HS-grad            9              Widowed   \n",
       "30159   22            Private      HS-grad            9        Never-married   \n",
       "30160   52       Self-emp-inc      HS-grad            9   Married-civ-spouse   \n",
       "\n",
       "       occupation    relationship    race      sex  capitalgain  capitalloss  \\\n",
       "0               0   Not-in-family   White     Male         2174            0   \n",
       "1               1         Husband   White     Male            0            0   \n",
       "2               2   Not-in-family   White     Male            0            0   \n",
       "3               2         Husband   Black     Male            0            0   \n",
       "4               3            Wife   Black   Female            0            0   \n",
       "...           ...             ...     ...      ...          ...          ...   \n",
       "30156           9            Wife   White   Female            0            0   \n",
       "30157           8         Husband   White     Male            0            0   \n",
       "30158           0       Unmarried   White   Female            0            0   \n",
       "30159           0       Own-child   White     Male            0            0   \n",
       "30160           1            Wife   White   Female        15024            0   \n",
       "\n",
       "       hoursperweek          native  Salary  \n",
       "0                40   United-States   <=50K  \n",
       "1                13   United-States   <=50K  \n",
       "2                40   United-States   <=50K  \n",
       "3                40   United-States   <=50K  \n",
       "4                40            Cuba   <=50K  \n",
       "...             ...             ...     ...  \n",
       "30156            38   United-States   <=50K  \n",
       "30157            40   United-States    >50K  \n",
       "30158            40   United-States   <=50K  \n",
       "30159            20   United-States   <=50K  \n",
       "30160            40   United-States    >50K  \n",
       "\n",
       "[30161 rows x 14 columns]"
      ]
     },
     "execution_count": 11,
     "metadata": {},
     "output_type": "execute_result"
    }
   ],
   "source": [
    "df.dropna(axis=1)"
   ]
  },
  {
   "cell_type": "code",
   "execution_count": 12,
   "id": "05e4ec18",
   "metadata": {
    "ExecuteTime": {
     "end_time": "2021-06-10T02:36:04.773935Z",
     "start_time": "2021-06-10T02:36:04.717968Z"
    }
   },
   "outputs": [
    {
     "data": {
      "text/plain": [
       "age              0\n",
       "workclass        0\n",
       "education        0\n",
       "educationno      0\n",
       "maritalstatus    0\n",
       "occupation       0\n",
       "relationship     0\n",
       "race             0\n",
       "sex              0\n",
       "capitalgain      0\n",
       "capitalloss      0\n",
       "hoursperweek     0\n",
       "native           0\n",
       "Salary           0\n",
       "dtype: int64"
      ]
     },
     "execution_count": 12,
     "metadata": {},
     "output_type": "execute_result"
    }
   ],
   "source": [
    "df.isnull().sum()"
   ]
  },
  {
   "cell_type": "code",
   "execution_count": 13,
   "id": "a8e3894c",
   "metadata": {
    "ExecuteTime": {
     "end_time": "2021-06-10T02:36:04.804914Z",
     "start_time": "2021-06-10T02:36:04.777931Z"
    }
   },
   "outputs": [
    {
     "name": "stdout",
     "output_type": "stream",
     "text": [
      "{' >50K', ' <=50K'}\n"
     ]
    }
   ],
   "source": [
    "Salary=set(df['Salary'])\n",
    "print(Salary)"
   ]
  },
  {
   "cell_type": "code",
   "execution_count": 14,
   "id": "3b4f7635",
   "metadata": {
    "ExecuteTime": {
     "end_time": "2021-06-10T02:36:04.820906Z",
     "start_time": "2021-06-10T02:36:04.808913Z"
    }
   },
   "outputs": [],
   "source": [
    "from sklearn import preprocessing"
   ]
  },
  {
   "cell_type": "code",
   "execution_count": 15,
   "id": "d2f5b522",
   "metadata": {
    "ExecuteTime": {
     "end_time": "2021-06-10T02:36:04.852886Z",
     "start_time": "2021-06-10T02:36:04.824902Z"
    }
   },
   "outputs": [
    {
     "data": {
      "text/plain": [
       " <=50K    22653\n",
       " >50K      7508\n",
       "Name: Salary, dtype: int64"
      ]
     },
     "execution_count": 15,
     "metadata": {},
     "output_type": "execute_result"
    }
   ],
   "source": [
    "df.Salary.value_counts()"
   ]
  },
  {
   "cell_type": "code",
   "execution_count": 16,
   "id": "5537be20",
   "metadata": {
    "ExecuteTime": {
     "end_time": "2021-06-10T02:36:04.868877Z",
     "start_time": "2021-06-10T02:36:04.856884Z"
    }
   },
   "outputs": [],
   "source": [
    "label_encode=preprocessing.LabelEncoder()"
   ]
  },
  {
   "cell_type": "code",
   "execution_count": 17,
   "id": "651d586e",
   "metadata": {
    "ExecuteTime": {
     "end_time": "2021-06-10T02:36:04.899858Z",
     "start_time": "2021-06-10T02:36:04.872873Z"
    }
   },
   "outputs": [],
   "source": [
    "df['Salary']=label_encode.fit_transform(df['Salary'])"
   ]
  },
  {
   "cell_type": "code",
   "execution_count": 18,
   "id": "d6ce1bbb",
   "metadata": {
    "ExecuteTime": {
     "end_time": "2021-06-10T02:36:04.994800Z",
     "start_time": "2021-06-10T02:36:04.916847Z"
    }
   },
   "outputs": [
    {
     "data": {
      "text/plain": [
       "0    22653\n",
       "1     7508\n",
       "Name: Salary, dtype: int64"
      ]
     },
     "execution_count": 18,
     "metadata": {},
     "output_type": "execute_result"
    }
   ],
   "source": [
    "df.Salary.value_counts()"
   ]
  },
  {
   "cell_type": "code",
   "execution_count": 19,
   "id": "ce5ab495",
   "metadata": {
    "ExecuteTime": {
     "end_time": "2021-06-10T02:36:07.025552Z",
     "start_time": "2021-06-10T02:36:04.998796Z"
    }
   },
   "outputs": [
    {
     "data": {
      "text/plain": [
       "<AxesSubplot:xlabel='education'>"
      ]
     },
     "execution_count": 19,
     "metadata": {},
     "output_type": "execute_result"
    },
    {
     "data": {
      "image/png": "[encoded data removed]",
      "text/plain": [
       "<Figure size 720x360 with 1 Axes>"
      ]
     },
     "metadata": {
      "needs_background": "light"
     },
     "output_type": "display_data"
    }
   ],
   "source": [
    "plt.figure(figsize=(10,5))\n",
    "df.groupby('education').Salary.mean().plot(kind='bar')"
   ]
  },
  {
   "cell_type": "code",
   "execution_count": 20,
   "id": "32b103c5",
   "metadata": {
    "ExecuteTime": {
     "end_time": "2021-06-10T02:36:08.428691Z",
     "start_time": "2021-06-10T02:36:07.035546Z"
    }
   },
   "outputs": [
    {
     "data": {
      "text/plain": [
       "<AxesSubplot:xlabel='occupation'>"
      ]
     },
     "execution_count": 20,
     "metadata": {},
     "output_type": "execute_result"
    },
    {
     "data": {
      "image/png": "[encoded data removed]",
      "text/plain": [
       "<Figure size 432x288 with 1 Axes>"
      ]
     },
     "metadata": {
      "needs_background": "light"
     },
     "output_type": "display_data"
    }
   ],
   "source": [
    "df.groupby('occupation').Salary.mean().plot(kind='bar')"
   ]
  },
  {
   "cell_type": "markdown",
   "id": "253e24a3",
   "metadata": {},
   "source": [
    "# Applying Support Vector Method"
   ]
  },
  {
   "cell_type": "code",
   "execution_count": 21,
   "id": "5c5954ba",
   "metadata": {
    "ExecuteTime": {
     "end_time": "2021-06-10T02:36:08.460672Z",
     "start_time": "2021-06-10T02:36:08.438682Z"
    }
   },
   "outputs": [],
   "source": [
    "from sklearn.svm import SVC\n",
    "from sklearn.model_selection import train_test_split"
   ]
  },
  {
   "cell_type": "code",
   "execution_count": 24,
   "id": "51a70480",
   "metadata": {
    "ExecuteTime": {
     "end_time": "2021-06-10T02:36:38.740059Z",
     "start_time": "2021-06-10T02:36:38.713074Z"
    }
   },
   "outputs": [],
   "source": [
    "x=df[['educationno','occupation']] #taking only important features\n",
    "y=df['Salary']\n"
   ]
  },
  {
   "cell_type": "code",
   "execution_count": 25,
   "id": "ba0e1d9a",
   "metadata": {
    "ExecuteTime": {
     "end_time": "2021-06-10T02:36:39.643504Z",
     "start_time": "2021-06-10T02:36:39.611523Z"
    }
   },
   "outputs": [],
   "source": [
    "x_train,x_test,y_train,y_test=train_test_split(x,y,test_size=0.2, random_state=100)"
   ]
  },
  {
   "cell_type": "code",
   "execution_count": 26,
   "id": "d73a62aa",
   "metadata": {
    "ExecuteTime": {
     "end_time": "2021-06-10T02:38:36.804488Z",
     "start_time": "2021-06-10T02:36:40.919718Z"
    }
   },
   "outputs": [
    {
     "data": {
      "text/plain": [
       "SVC()"
      ]
     },
     "execution_count": 26,
     "metadata": {},
     "output_type": "execute_result"
    }
   ],
   "source": [
    "classifier=SVC()\n",
    "classifier.fit(x_train,y_train)"
   ]
  },
  {
   "cell_type": "code",
   "execution_count": 27,
   "id": "c63de5c2",
   "metadata": {
    "ExecuteTime": {
     "end_time": "2021-06-10T02:38:52.594786Z",
     "start_time": "2021-06-10T02:38:36.815482Z"
    }
   },
   "outputs": [
    {
     "name": "stdout",
     "output_type": "stream",
     "text": [
      "0.7762307309796121\n"
     ]
    }
   ],
   "source": [
    "score=classifier.score(x_test,y_test)\n",
    "print(score)"
   ]
  },
  {
   "cell_type": "code",
   "execution_count": 28,
   "id": "31b96537",
   "metadata": {
    "ExecuteTime": {
     "end_time": "2021-06-10T02:38:52.672736Z",
     "start_time": "2021-06-10T02:38:52.606778Z"
    }
   },
   "outputs": [
    {
     "data": {
      "text/plain": [
       " Male      20380\n",
       " Female     9781\n",
       "Name: sex, dtype: int64"
      ]
     },
     "execution_count": 28,
     "metadata": {},
     "output_type": "execute_result"
    }
   ],
   "source": [
    "df.sex.value_counts()"
   ]
  },
  {
   "cell_type": "code",
   "execution_count": 29,
   "id": "34a1ccf5",
   "metadata": {
    "ExecuteTime": {
     "end_time": "2021-06-10T02:38:52.752687Z",
     "start_time": "2021-06-10T02:38:52.689727Z"
    }
   },
   "outputs": [],
   "source": [
    "df['sex']=label_encode.fit_transform(df['sex'])"
   ]
  },
  {
   "cell_type": "code",
   "execution_count": 30,
   "id": "2e25674e",
   "metadata": {
    "ExecuteTime": {
     "end_time": "2021-06-10T02:38:52.784670Z",
     "start_time": "2021-06-10T02:38:52.756684Z"
    }
   },
   "outputs": [
    {
     "name": "stdout",
     "output_type": "stream",
     "text": [
      "{' Asian-Pac-Islander', ' Amer-Indian-Eskimo', ' Other', ' White', ' Black'}\n"
     ]
    }
   ],
   "source": [
    "race_set = set(df['race'])\n",
    "print(race_set)"
   ]
  },
  {
   "cell_type": "code",
   "execution_count": 31,
   "id": "3e15bae1",
   "metadata": {
    "ExecuteTime": {
     "end_time": "2021-06-10T02:38:52.800657Z",
     "start_time": "2021-06-10T02:38:52.788665Z"
    }
   },
   "outputs": [],
   "source": [
    "from sklearn.preprocessing import OneHotEncoder"
   ]
  },
  {
   "cell_type": "code",
   "execution_count": 32,
   "id": "07e3b7a0",
   "metadata": {
    "ExecuteTime": {
     "end_time": "2021-06-10T02:38:52.867621Z",
     "start_time": "2021-06-10T02:38:52.804655Z"
    }
   },
   "outputs": [
    {
     "data": {
      "text/plain": [
       "0    25932\n",
       "1     2817\n",
       "2      895\n",
       "3      286\n",
       "4      231\n",
       "Name: race, dtype: int64"
      ]
     },
     "execution_count": 32,
     "metadata": {},
     "output_type": "execute_result"
    }
   ],
   "source": [
    "df['race']=pd.factorize(df['race'])[0]\n",
    "df.race.value_counts()"
   ]
  },
  {
   "cell_type": "code",
   "execution_count": 33,
   "id": "cc5be152",
   "metadata": {
    "ExecuteTime": {
     "end_time": "2021-06-10T02:38:52.915592Z",
     "start_time": "2021-06-10T02:38:52.886605Z"
    }
   },
   "outputs": [
    {
     "name": "stdout",
     "output_type": "stream",
     "text": [
      "{' Widowed', ' Married-spouse-absent', ' Separated', ' Divorced', ' Married-civ-spouse', ' Married-AF-spouse', ' Never-married'}\n"
     ]
    }
   ],
   "source": [
    "mariatal_status=set(df['maritalstatus'])\n",
    "print(mariatal_status)"
   ]
  },
  {
   "cell_type": "code",
   "execution_count": 34,
   "id": "792b72cb",
   "metadata": {
    "ExecuteTime": {
     "end_time": "2021-06-10T02:38:52.992540Z",
     "start_time": "2021-06-10T02:38:52.925583Z"
    }
   },
   "outputs": [
    {
     "data": {
      "text/plain": [
       "1    14065\n",
       "0     9725\n",
       "2     4214\n",
       "4      939\n",
       "6      827\n",
       "3      370\n",
       "5       21\n",
       "Name: maritalstatus, dtype: int64"
      ]
     },
     "execution_count": 34,
     "metadata": {},
     "output_type": "execute_result"
    }
   ],
   "source": [
    "df['maritalstatus']=pd.factorize(df['maritalstatus'])[0]\n",
    "df.maritalstatus.value_counts()"
   ]
  },
  {
   "cell_type": "code",
   "execution_count": 35,
   "id": "90951c62",
   "metadata": {
    "ExecuteTime": {
     "end_time": "2021-06-10T02:38:54.055886Z",
     "start_time": "2021-06-10T02:38:52.995539Z"
    }
   },
   "outputs": [
    {
     "data": {
      "image/png": "[encoded data removed]",
      "text/plain": [
       "<Figure size 864x576 with 2 Axes>"
      ]
     },
     "metadata": {
      "needs_background": "light"
     },
     "output_type": "display_data"
    }
   ],
   "source": [
    "corr=df.corr()\n",
    "f,ax=plt.subplots(figsize=(12,8))\n",
    "sns.heatmap(corr)\n",
    "plt.show()"
   ]
  },
  {
   "cell_type": "code",
   "execution_count": 36,
   "id": "ddb3f2ce",
   "metadata": {
    "ExecuteTime": {
     "end_time": "2021-06-10T02:38:54.120849Z",
     "start_time": "2021-06-10T02:38:54.059884Z"
    }
   },
   "outputs": [],
   "source": [
    "# Taking only the features that is important for now\n",
    "X = df[['educationno', 'age']]\n",
    "\n",
    "# Taking the labels (Income)\n",
    "Y = df['Salary']\n",
    "\n",
    "# Spliting into 80% for training set and 20% for testing set so we can see our accuracy\n",
    "X_train, x_test, Y_train, y_test = train_test_split(X, Y, test_size=0.2, random_state=100)"
   ]
  },
  {
   "cell_type": "code",
   "execution_count": 37,
   "id": "26e4b63e",
   "metadata": {
    "ExecuteTime": {
     "end_time": "2021-06-10T02:40:42.063504Z",
     "start_time": "2021-06-10T02:38:54.130841Z"
    }
   },
   "outputs": [
    {
     "data": {
      "text/plain": [
       "SVC()"
      ]
     },
     "execution_count": 37,
     "metadata": {},
     "output_type": "execute_result"
    }
   ],
   "source": [
    "classi=SVC()\n",
    "classi.fit(x_train,y_train)"
   ]
  },
  {
   "cell_type": "code",
   "execution_count": 38,
   "id": "dc79c39f",
   "metadata": {
    "ExecuteTime": {
     "end_time": "2021-06-10T02:41:16.015631Z",
     "start_time": "2021-06-10T02:40:42.110473Z"
    }
   },
   "outputs": [
    {
     "name": "stdout",
     "output_type": "stream",
     "text": [
      "0.750704458809879\n"
     ]
    }
   ],
   "source": [
    "score=classi.score(x_test,y_test)\n",
    "print(score)"
   ]
  },
  {
   "cell_type": "code",
   "execution_count": 39,
   "id": "957847a6",
   "metadata": {
    "ExecuteTime": {
     "end_time": "2021-06-10T02:41:16.058605Z",
     "start_time": "2021-06-10T02:41:16.029623Z"
    }
   },
   "outputs": [
    {
     "data": {
      "text/plain": [
       "Index(['age', 'workclass', 'education', 'educationno', 'maritalstatus',\n",
       "       'occupation', 'relationship', 'race', 'sex', 'capitalgain',\n",
       "       'capitalloss', 'hoursperweek', 'native', 'Salary'],\n",
       "      dtype='object')"
      ]
     },
     "execution_count": 39,
     "metadata": {},
     "output_type": "execute_result"
    }
   ],
   "source": [
    "df.columns"
   ]
  },
  {
   "cell_type": "code",
   "execution_count": 40,
   "id": "6b729987",
   "metadata": {
    "ExecuteTime": {
     "end_time": "2021-06-10T02:41:16.109575Z",
     "start_time": "2021-06-10T02:41:16.066600Z"
    }
   },
   "outputs": [],
   "source": [
    "x=df[['age','educationno','hoursperweek','capitalgain']]\n",
    "y=df['Salary']"
   ]
  },
  {
   "cell_type": "code",
   "execution_count": 41,
   "id": "7dcb7621",
   "metadata": {
    "ExecuteTime": {
     "end_time": "2021-06-10T02:41:16.154547Z",
     "start_time": "2021-06-10T02:41:16.120569Z"
    }
   },
   "outputs": [],
   "source": [
    "x_train,x_test,y_train,y_test=train_test_split(x,y,test_size=0.3,random_state=50)"
   ]
  },
  {
   "cell_type": "code",
   "execution_count": 42,
   "id": "da1ee8c1",
   "metadata": {
    "ExecuteTime": {
     "end_time": "2021-06-10T02:41:41.440005Z",
     "start_time": "2021-06-10T02:41:16.162543Z"
    }
   },
   "outputs": [],
   "source": [
    "classifier=SVC()\n",
    "model=classifier.fit(x_train,y_train)"
   ]
  },
  {
   "cell_type": "code",
   "execution_count": 43,
   "id": "04d3238f",
   "metadata": {
    "ExecuteTime": {
     "end_time": "2021-06-10T02:42:27.280830Z",
     "start_time": "2021-06-10T02:41:41.449002Z"
    }
   },
   "outputs": [
    {
     "name": "stdout",
     "output_type": "stream",
     "text": [
      "0.7945629351309537\n"
     ]
    }
   ],
   "source": [
    "score=model.score(x_test,y_test)\n",
    "print(score)"
   ]
  },
  {
   "cell_type": "markdown",
   "id": "7715156f",
   "metadata": {},
   "source": [
    " we did it: 79.45%! Nice Just listening to our data we could overcome our intuition and achieve our goal"
   ]
  },
  {
   "cell_type": "code",
   "execution_count": 44,
   "id": "1f1a24cd",
   "metadata": {
    "ExecuteTime": {
     "end_time": "2021-06-10T02:42:28.455110Z",
     "start_time": "2021-06-10T02:42:27.303817Z"
    }
   },
   "outputs": [
    {
     "data": {
      "text/plain": [
       "<AxesSubplot:xlabel='race'>"
      ]
     },
     "execution_count": 44,
     "metadata": {},
     "output_type": "execute_result"
    },
    {
     "data": {
      "image/png": "[encoded data removed]",
      "text/plain": [
       "<Figure size 432x288 with 1 Axes>"
      ]
     },
     "metadata": {
      "needs_background": "light"
     },
     "output_type": "display_data"
    }
   ],
   "source": [
    "df.groupby('race').Salary.mean().plot(kind='bar')"
   ]
  },
  {
   "cell_type": "code",
   "execution_count": 45,
   "id": "b38e632e",
   "metadata": {
    "ExecuteTime": {
     "end_time": "2021-06-10T02:42:29.372546Z",
     "start_time": "2021-06-10T02:42:28.475097Z"
    }
   },
   "outputs": [
    {
     "data": {
      "text/plain": [
       "<AxesSubplot:xlabel='sex'>"
      ]
     },
     "execution_count": 45,
     "metadata": {},
     "output_type": "execute_result"
    },
    {
     "data": {
      "image/png": "[encoded data removed]",
      "text/plain": [
       "<Figure size 432x288 with 1 Axes>"
      ]
     },
     "metadata": {
      "needs_background": "light"
     },
     "output_type": "display_data"
    }
   ],
   "source": [
    "df.groupby('sex').Salary.mean().plot(kind='bar')\n"
   ]
  },
  {
   "cell_type": "code",
   "execution_count": 47,
   "id": "fa2dfc88",
   "metadata": {
    "ExecuteTime": {
     "end_time": "2021-06-10T02:48:36.933372Z",
     "start_time": "2021-06-10T02:48:28.222730Z"
    }
   },
   "outputs": [
    {
     "data": {
      "text/plain": [
       "<AxesSubplot:xlabel='age'>"
      ]
     },
     "execution_count": 47,
     "metadata": {},
     "output_type": "execute_result"
    },
    {
     "data": {
      "image/png": "[encoded data removed]",
      "text/plain": [
       "<Figure size 1440x720 with 1 Axes>"
      ]
     },
     "metadata": {
      "needs_background": "light"
     },
     "output_type": "display_data"
    }
   ],
   "source": [
    "# Mean below 20 years old\n",
    "plt.figure(figsize=(20,10))\n",
    "df.groupby('age').Salary.mean().plot(kind='bar')"
   ]
  },
  {
   "cell_type": "markdown",
   "id": "b631e25c",
   "metadata": {},
   "source": [
    "We achieved our goal by seeing the data closer, trying to understand it's realtions among the features. After that, we explore the data a little bit more and learnt that:\n",
    "\n",
    "Men have more chances to have a higher income\n",
    "White and Asian Pacific Islanders have more chances than other races\n",
    "Income sort of follows the normal deviation, with a peak at 50 years old"
   ]
  },
  {
   "cell_type": "code",
   "execution_count": null,
   "id": "76f92e52",
   "metadata": {},
   "outputs": [],
   "source": []
  },
  {
   "cell_type": "code",
   "execution_count": null,
   "id": "e4530411",
   "metadata": {},
   "outputs": [],
   "source": []
  },
  {
   "cell_type": "code",
   "execution_count": null,
   "id": "5838157f",
   "metadata": {},
   "outputs": [],
   "source": []
  }
 ],
 "metadata": {
  "kernelspec": {
   "display_name": "Python 3",
   "language": "python",
   "name": "python3"
  },
  "language_info": {
   "codemirror_mode": {
    "name": "ipython",
    "version": 3
   },
   "file_extension": ".py",
   "mimetype": "text/x-python",
   "name": "python",
   "nbconvert_exporter": "python",
   "pygments_lexer": "ipython3",
   "version": "3.8.8"
  }
 },
 "nbformat": 4,
 "nbformat_minor": 5
}
