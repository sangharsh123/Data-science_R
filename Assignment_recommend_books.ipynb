{
 "cells": [
  {
   "cell_type": "code",
   "execution_count": 1,
   "metadata": {
    "ExecuteTime": {
     "end_time": "2021-05-22T17:18:12.526597Z",
     "start_time": "2021-05-22T17:18:11.514123Z"
    }
   },
   "outputs": [],
   "source": [
    "import pandas as pd\n",
    "import numpy as np"
   ]
  },
  {
   "cell_type": "code",
   "execution_count": 2,
   "metadata": {
    "ExecuteTime": {
     "end_time": "2021-05-22T17:18:13.001830Z",
     "start_time": "2021-05-22T17:18:12.918881Z"
    }
   },
   "outputs": [
    {
     "data": {
      "text/html": [
       "<div>\n",
       "<style scoped>\n",
       "    .dataframe tbody tr th:only-of-type {\n",
       "        vertical-align: middle;\n",
       "    }\n",
       "\n",
       "    .dataframe tbody tr th {\n",
       "        vertical-align: top;\n",
       "    }\n",
       "\n",
       "    .dataframe thead th {\n",
       "        text-align: right;\n",
       "    }\n",
       "</style>\n",
       "<table border=\"1\" class=\"dataframe\">\n",
       "  <thead>\n",
       "    <tr style=\"text-align: right;\">\n",
       "      <th></th>\n",
       "      <th>Unnamed: 0</th>\n",
       "      <th>User_ID</th>\n",
       "      <th>Book_Title</th>\n",
       "      <th>Book_Rating</th>\n",
       "    </tr>\n",
       "  </thead>\n",
       "  <tbody>\n",
       "    <tr>\n",
       "      <th>0</th>\n",
       "      <td>1</td>\n",
       "      <td>276726</td>\n",
       "      <td>Classical Mythology</td>\n",
       "      <td>5</td>\n",
       "    </tr>\n",
       "    <tr>\n",
       "      <th>1</th>\n",
       "      <td>2</td>\n",
       "      <td>276729</td>\n",
       "      <td>Clara Callan</td>\n",
       "      <td>3</td>\n",
       "    </tr>\n",
       "    <tr>\n",
       "      <th>2</th>\n",
       "      <td>3</td>\n",
       "      <td>276729</td>\n",
       "      <td>Decision in Normandy</td>\n",
       "      <td>6</td>\n",
       "    </tr>\n",
       "    <tr>\n",
       "      <th>3</th>\n",
       "      <td>4</td>\n",
       "      <td>276736</td>\n",
       "      <td>Flu: The Story of the Great Influenza Pandemic...</td>\n",
       "      <td>8</td>\n",
       "    </tr>\n",
       "    <tr>\n",
       "      <th>4</th>\n",
       "      <td>5</td>\n",
       "      <td>276737</td>\n",
       "      <td>The Mummies of Urumchi</td>\n",
       "      <td>6</td>\n",
       "    </tr>\n",
       "  </tbody>\n",
       "</table>\n",
       "</div>"
      ],
      "text/plain": [
       "   Unnamed: 0  User_ID                                         Book_Title  \\\n",
       "0           1   276726                                Classical Mythology   \n",
       "1           2   276729                                       Clara Callan   \n",
       "2           3   276729                               Decision in Normandy   \n",
       "3           4   276736  Flu: The Story of the Great Influenza Pandemic...   \n",
       "4           5   276737                             The Mummies of Urumchi   \n",
       "\n",
       "   Book_Rating  \n",
       "0            5  \n",
       "1            3  \n",
       "2            6  \n",
       "3            8  \n",
       "4            6  "
      ]
     },
     "execution_count": 2,
     "metadata": {},
     "output_type": "execute_result"
    }
   ],
   "source": [
    "df = pd.read_csv(\"book RS.csv\")\n",
    "df.head()"
   ]
  },
  {
   "cell_type": "code",
   "execution_count": 3,
   "metadata": {
    "ExecuteTime": {
     "end_time": "2021-05-22T17:18:16.904235Z",
     "start_time": "2021-05-22T17:18:15.071929Z"
    }
   },
   "outputs": [],
   "source": [
    "import matplotlib.pyplot as plt\n",
    "import seaborn as sns\n",
    "%matplotlib inline"
   ]
  },
  {
   "cell_type": "code",
   "execution_count": 34,
   "metadata": {
    "ExecuteTime": {
     "end_time": "2021-05-22T17:44:08.675240Z",
     "start_time": "2021-05-22T17:44:08.631266Z"
    }
   },
   "outputs": [
    {
     "data": {
      "text/plain": [
       "Book_Title\n",
       "Dr Mommy (From Here To Maternity) (Silhouette Desire, 1269)                                                           10.0\n",
       "The Piano Man's Daughter                                                                                              10.0\n",
       "Private Screening                                                                                                     10.0\n",
       "The Pilates Body: The Ultimate At-Home Guide to Strengthening, Lengthening, and Toning Your Body--Without Machines    10.0\n",
       "Desert Solitaire                                                                                                      10.0\n",
       "Name: Book_Rating, dtype: float64"
      ]
     },
     "execution_count": 34,
     "metadata": {},
     "output_type": "execute_result"
    }
   ],
   "source": [
    "df.groupby('Book_Title')['Book_Rating'].mean().sort_values(ascending=False).head()"
   ]
  },
  {
   "cell_type": "code",
   "execution_count": 35,
   "metadata": {
    "ExecuteTime": {
     "end_time": "2021-05-22T17:44:16.406226Z",
     "start_time": "2021-05-22T17:44:16.369251Z"
    }
   },
   "outputs": [
    {
     "data": {
      "text/plain": [
       "Book_Title\n",
       "Fahrenheit 451                                   5\n",
       "Ender's Game (Ender Wiggins Saga (Paperback))    4\n",
       "Stardust                                         4\n",
       "Vanished                                         4\n",
       "Charlie and the Chocolate Factory                4\n",
       "Name: Book_Rating, dtype: int64"
      ]
     },
     "execution_count": 35,
     "metadata": {},
     "output_type": "execute_result"
    }
   ],
   "source": [
    "df.groupby('Book_Title')['Book_Rating'].count().sort_values(ascending=False).head()"
   ]
  },
  {
   "cell_type": "code",
   "execution_count": 36,
   "metadata": {
    "ExecuteTime": {
     "end_time": "2021-05-22T17:44:23.275818Z",
     "start_time": "2021-05-22T17:44:23.232845Z"
    }
   },
   "outputs": [
    {
     "data": {
      "text/html": [
       "<div>\n",
       "<style scoped>\n",
       "    .dataframe tbody tr th:only-of-type {\n",
       "        vertical-align: middle;\n",
       "    }\n",
       "\n",
       "    .dataframe tbody tr th {\n",
       "        vertical-align: top;\n",
       "    }\n",
       "\n",
       "    .dataframe thead th {\n",
       "        text-align: right;\n",
       "    }\n",
       "</style>\n",
       "<table border=\"1\" class=\"dataframe\">\n",
       "  <thead>\n",
       "    <tr style=\"text-align: right;\">\n",
       "      <th></th>\n",
       "      <th>Book_Rating</th>\n",
       "    </tr>\n",
       "    <tr>\n",
       "      <th>Book_Title</th>\n",
       "      <th></th>\n",
       "    </tr>\n",
       "  </thead>\n",
       "  <tbody>\n",
       "    <tr>\n",
       "      <th>Jason, Madison &amp;amp</th>\n",
       "      <td>8.0</td>\n",
       "    </tr>\n",
       "    <tr>\n",
       "      <th>Other Stories;Merril;1985;McClelland &amp;amp</th>\n",
       "      <td>6.0</td>\n",
       "    </tr>\n",
       "    <tr>\n",
       "      <th>Repairing PC Drives &amp;amp</th>\n",
       "      <td>4.0</td>\n",
       "    </tr>\n",
       "    <tr>\n",
       "      <th>'48</th>\n",
       "      <td>7.0</td>\n",
       "    </tr>\n",
       "    <tr>\n",
       "      <th>'O Au No Keia: Voices from Hawai'I's Mahu and Transgender Communities</th>\n",
       "      <td>8.0</td>\n",
       "    </tr>\n",
       "  </tbody>\n",
       "</table>\n",
       "</div>"
      ],
      "text/plain": [
       "                                                    Book_Rating\n",
       "Book_Title                                                     \n",
       " Jason, Madison &amp                                        8.0\n",
       " Other Stories;Merril;1985;McClelland &amp                  6.0\n",
       " Repairing PC Drives &amp                                   4.0\n",
       "'48                                                         7.0\n",
       "'O Au No Keia: Voices from Hawai'I's Mahu and T...          8.0"
      ]
     },
     "execution_count": 36,
     "metadata": {},
     "output_type": "execute_result"
    }
   ],
   "source": [
    "ratings = pd.DataFrame(df.groupby('Book_Title')['Book_Rating'].mean())\n",
    "ratings.head()"
   ]
  },
  {
   "cell_type": "code",
   "execution_count": 37,
   "metadata": {
    "ExecuteTime": {
     "end_time": "2021-05-22T17:44:28.061739Z",
     "start_time": "2021-05-22T17:44:28.009771Z"
    }
   },
   "outputs": [
    {
     "data": {
      "text/html": [
       "<div>\n",
       "<style scoped>\n",
       "    .dataframe tbody tr th:only-of-type {\n",
       "        vertical-align: middle;\n",
       "    }\n",
       "\n",
       "    .dataframe tbody tr th {\n",
       "        vertical-align: top;\n",
       "    }\n",
       "\n",
       "    .dataframe thead th {\n",
       "        text-align: right;\n",
       "    }\n",
       "</style>\n",
       "<table border=\"1\" class=\"dataframe\">\n",
       "  <thead>\n",
       "    <tr style=\"text-align: right;\">\n",
       "      <th></th>\n",
       "      <th>Book_Rating</th>\n",
       "      <th>num of ratings</th>\n",
       "    </tr>\n",
       "    <tr>\n",
       "      <th>Book_Title</th>\n",
       "      <th></th>\n",
       "      <th></th>\n",
       "    </tr>\n",
       "  </thead>\n",
       "  <tbody>\n",
       "    <tr>\n",
       "      <th>Jason, Madison &amp;amp</th>\n",
       "      <td>8.0</td>\n",
       "      <td>1</td>\n",
       "    </tr>\n",
       "    <tr>\n",
       "      <th>Other Stories;Merril;1985;McClelland &amp;amp</th>\n",
       "      <td>6.0</td>\n",
       "      <td>1</td>\n",
       "    </tr>\n",
       "    <tr>\n",
       "      <th>Repairing PC Drives &amp;amp</th>\n",
       "      <td>4.0</td>\n",
       "      <td>1</td>\n",
       "    </tr>\n",
       "    <tr>\n",
       "      <th>'48</th>\n",
       "      <td>7.0</td>\n",
       "      <td>1</td>\n",
       "    </tr>\n",
       "    <tr>\n",
       "      <th>'O Au No Keia: Voices from Hawai'I's Mahu and Transgender Communities</th>\n",
       "      <td>8.0</td>\n",
       "      <td>1</td>\n",
       "    </tr>\n",
       "  </tbody>\n",
       "</table>\n",
       "</div>"
      ],
      "text/plain": [
       "                                                    Book_Rating  \\\n",
       "Book_Title                                                        \n",
       " Jason, Madison &amp                                        8.0   \n",
       " Other Stories;Merril;1985;McClelland &amp                  6.0   \n",
       " Repairing PC Drives &amp                                   4.0   \n",
       "'48                                                         7.0   \n",
       "'O Au No Keia: Voices from Hawai'I's Mahu and T...          8.0   \n",
       "\n",
       "                                                    num of ratings  \n",
       "Book_Title                                                          \n",
       " Jason, Madison &amp                                             1  \n",
       " Other Stories;Merril;1985;McClelland &amp                       1  \n",
       " Repairing PC Drives &amp                                        1  \n",
       "'48                                                              1  \n",
       "'O Au No Keia: Voices from Hawai'I's Mahu and T...               1  "
      ]
     },
     "execution_count": 37,
     "metadata": {},
     "output_type": "execute_result"
    }
   ],
   "source": [
    "ratings['num of ratings'] = pd.DataFrame(df.groupby('Book_Title')['Book_Rating'].count())\n",
    "ratings.head()"
   ]
  },
  {
   "cell_type": "code",
   "execution_count": 38,
   "metadata": {
    "ExecuteTime": {
     "end_time": "2021-05-22T17:44:32.705329Z",
     "start_time": "2021-05-22T17:44:32.160668Z"
    }
   },
   "outputs": [
    {
     "data": {
      "text/plain": [
       "<AxesSubplot:>"
      ]
     },
     "execution_count": 38,
     "metadata": {},
     "output_type": "execute_result"
    },
    {
     "data": {
      "image/png": "[encoded data removed]",
      "text/plain": [
       "<Figure size 432x288 with 1 Axes>"
      ]
     },
     "metadata": {
      "needs_background": "light"
     },
     "output_type": "display_data"
    }
   ],
   "source": [
    "ratings['num of ratings'].hist(bins=70)"
   ]
  },
  {
   "cell_type": "markdown",
   "metadata": {},
   "source": [
    "### Recommending simmiler books"
   ]
  },
  {
   "cell_type": "code",
   "execution_count": 39,
   "metadata": {
    "ExecuteTime": {
     "end_time": "2021-05-22T17:44:40.423811Z",
     "start_time": "2021-05-22T17:44:39.695261Z"
    }
   },
   "outputs": [
    {
     "data": {
      "text/html": [
       "<div>\n",
       "<style scoped>\n",
       "    .dataframe tbody tr th:only-of-type {\n",
       "        vertical-align: middle;\n",
       "    }\n",
       "\n",
       "    .dataframe tbody tr th {\n",
       "        vertical-align: top;\n",
       "    }\n",
       "\n",
       "    .dataframe thead th {\n",
       "        text-align: right;\n",
       "    }\n",
       "</style>\n",
       "<table border=\"1\" class=\"dataframe\">\n",
       "  <thead>\n",
       "    <tr style=\"text-align: right;\">\n",
       "      <th>Book_Title</th>\n",
       "      <th>Jason, Madison &amp;amp</th>\n",
       "      <th>Other Stories;Merril;1985;McClelland &amp;amp</th>\n",
       "      <th>Repairing PC Drives &amp;amp</th>\n",
       "      <th>'48</th>\n",
       "      <th>'O Au No Keia: Voices from Hawai'I's Mahu and Transgender Communities</th>\n",
       "      <th>...AND THE HORSE HE RODE IN ON : THE PEOPLE V. KENNETH STARR</th>\n",
       "      <th>01-01-00: A Novel of the Millennium</th>\n",
       "      <th>1,401 More Things That P*Ss Me Off</th>\n",
       "      <th>10 Commandments Of Dating</th>\n",
       "      <th>100 Great Fantasy Short, Short Stories</th>\n",
       "      <th>...</th>\n",
       "      <th>Zora Hurston and the Chinaberry Tree (Reading Rainbow Book)</th>\n",
       "      <th>\\Even Monkeys Fall from Trees\\ and Other Japanese Proverbs</th>\n",
       "      <th>\\I Won't Learn from You\\: And Other Thoughts on Creative Maladjustment</th>\n",
       "      <th>\\More More More,\\ Said the Baby</th>\n",
       "      <th>\\O\\ Is for Outlaw</th>\n",
       "      <th>\\Surely You're Joking, Mr. Feynman!\\: Adventures of a Curious Character</th>\n",
       "      <th>\\Well, there's your problem\\: Cartoons</th>\n",
       "      <th>iI Paradiso Degli Orchi</th>\n",
       "      <th>stardust</th>\n",
       "      <th>�?�?bermorgen.</th>\n",
       "    </tr>\n",
       "    <tr>\n",
       "      <th>User_ID</th>\n",
       "      <th></th>\n",
       "      <th></th>\n",
       "      <th></th>\n",
       "      <th></th>\n",
       "      <th></th>\n",
       "      <th></th>\n",
       "      <th></th>\n",
       "      <th></th>\n",
       "      <th></th>\n",
       "      <th></th>\n",
       "      <th></th>\n",
       "      <th></th>\n",
       "      <th></th>\n",
       "      <th></th>\n",
       "      <th></th>\n",
       "      <th></th>\n",
       "      <th></th>\n",
       "      <th></th>\n",
       "      <th></th>\n",
       "      <th></th>\n",
       "      <th></th>\n",
       "    </tr>\n",
       "  </thead>\n",
       "  <tbody>\n",
       "    <tr>\n",
       "      <th>8</th>\n",
       "      <td>NaN</td>\n",
       "      <td>NaN</td>\n",
       "      <td>NaN</td>\n",
       "      <td>NaN</td>\n",
       "      <td>NaN</td>\n",
       "      <td>NaN</td>\n",
       "      <td>NaN</td>\n",
       "      <td>NaN</td>\n",
       "      <td>NaN</td>\n",
       "      <td>NaN</td>\n",
       "      <td>...</td>\n",
       "      <td>NaN</td>\n",
       "      <td>NaN</td>\n",
       "      <td>NaN</td>\n",
       "      <td>NaN</td>\n",
       "      <td>NaN</td>\n",
       "      <td>NaN</td>\n",
       "      <td>NaN</td>\n",
       "      <td>NaN</td>\n",
       "      <td>NaN</td>\n",
       "      <td>NaN</td>\n",
       "    </tr>\n",
       "    <tr>\n",
       "      <th>9</th>\n",
       "      <td>NaN</td>\n",
       "      <td>NaN</td>\n",
       "      <td>NaN</td>\n",
       "      <td>NaN</td>\n",
       "      <td>NaN</td>\n",
       "      <td>NaN</td>\n",
       "      <td>NaN</td>\n",
       "      <td>NaN</td>\n",
       "      <td>NaN</td>\n",
       "      <td>NaN</td>\n",
       "      <td>...</td>\n",
       "      <td>NaN</td>\n",
       "      <td>NaN</td>\n",
       "      <td>NaN</td>\n",
       "      <td>NaN</td>\n",
       "      <td>NaN</td>\n",
       "      <td>NaN</td>\n",
       "      <td>NaN</td>\n",
       "      <td>NaN</td>\n",
       "      <td>NaN</td>\n",
       "      <td>NaN</td>\n",
       "    </tr>\n",
       "    <tr>\n",
       "      <th>10</th>\n",
       "      <td>NaN</td>\n",
       "      <td>NaN</td>\n",
       "      <td>NaN</td>\n",
       "      <td>NaN</td>\n",
       "      <td>NaN</td>\n",
       "      <td>NaN</td>\n",
       "      <td>NaN</td>\n",
       "      <td>NaN</td>\n",
       "      <td>NaN</td>\n",
       "      <td>NaN</td>\n",
       "      <td>...</td>\n",
       "      <td>NaN</td>\n",
       "      <td>NaN</td>\n",
       "      <td>NaN</td>\n",
       "      <td>NaN</td>\n",
       "      <td>NaN</td>\n",
       "      <td>NaN</td>\n",
       "      <td>NaN</td>\n",
       "      <td>NaN</td>\n",
       "      <td>NaN</td>\n",
       "      <td>NaN</td>\n",
       "    </tr>\n",
       "    <tr>\n",
       "      <th>12</th>\n",
       "      <td>NaN</td>\n",
       "      <td>NaN</td>\n",
       "      <td>NaN</td>\n",
       "      <td>NaN</td>\n",
       "      <td>NaN</td>\n",
       "      <td>NaN</td>\n",
       "      <td>NaN</td>\n",
       "      <td>NaN</td>\n",
       "      <td>NaN</td>\n",
       "      <td>NaN</td>\n",
       "      <td>...</td>\n",
       "      <td>NaN</td>\n",
       "      <td>NaN</td>\n",
       "      <td>NaN</td>\n",
       "      <td>NaN</td>\n",
       "      <td>NaN</td>\n",
       "      <td>NaN</td>\n",
       "      <td>NaN</td>\n",
       "      <td>NaN</td>\n",
       "      <td>NaN</td>\n",
       "      <td>NaN</td>\n",
       "    </tr>\n",
       "    <tr>\n",
       "      <th>14</th>\n",
       "      <td>NaN</td>\n",
       "      <td>NaN</td>\n",
       "      <td>NaN</td>\n",
       "      <td>NaN</td>\n",
       "      <td>NaN</td>\n",
       "      <td>NaN</td>\n",
       "      <td>NaN</td>\n",
       "      <td>NaN</td>\n",
       "      <td>NaN</td>\n",
       "      <td>NaN</td>\n",
       "      <td>...</td>\n",
       "      <td>NaN</td>\n",
       "      <td>NaN</td>\n",
       "      <td>NaN</td>\n",
       "      <td>NaN</td>\n",
       "      <td>NaN</td>\n",
       "      <td>NaN</td>\n",
       "      <td>NaN</td>\n",
       "      <td>NaN</td>\n",
       "      <td>NaN</td>\n",
       "      <td>NaN</td>\n",
       "    </tr>\n",
       "  </tbody>\n",
       "</table>\n",
       "<p>5 rows × 9659 columns</p>\n",
       "</div>"
      ],
      "text/plain": [
       "Book_Title   Jason, Madison &amp   Other Stories;Merril;1985;McClelland &amp  \\\n",
       "User_ID                                                                        \n",
       "8                            NaN                                         NaN   \n",
       "9                            NaN                                         NaN   \n",
       "10                           NaN                                         NaN   \n",
       "12                           NaN                                         NaN   \n",
       "14                           NaN                                         NaN   \n",
       "\n",
       "Book_Title   Repairing PC Drives &amp  '48  \\\n",
       "User_ID                                      \n",
       "8                                 NaN  NaN   \n",
       "9                                 NaN  NaN   \n",
       "10                                NaN  NaN   \n",
       "12                                NaN  NaN   \n",
       "14                                NaN  NaN   \n",
       "\n",
       "Book_Title  'O Au No Keia: Voices from Hawai'I's Mahu and Transgender Communities  \\\n",
       "User_ID                                                                             \n",
       "8                                                         NaN                       \n",
       "9                                                         NaN                       \n",
       "10                                                        NaN                       \n",
       "12                                                        NaN                       \n",
       "14                                                        NaN                       \n",
       "\n",
       "Book_Title  ...AND THE HORSE HE RODE IN ON : THE PEOPLE V. KENNETH STARR  \\\n",
       "User_ID                                                                    \n",
       "8                                                         NaN              \n",
       "9                                                         NaN              \n",
       "10                                                        NaN              \n",
       "12                                                        NaN              \n",
       "14                                                        NaN              \n",
       "\n",
       "Book_Title  01-01-00: A Novel of the Millennium  \\\n",
       "User_ID                                           \n",
       "8                                           NaN   \n",
       "9                                           NaN   \n",
       "10                                          NaN   \n",
       "12                                          NaN   \n",
       "14                                          NaN   \n",
       "\n",
       "Book_Title  1,401 More Things That P*Ss Me Off  10 Commandments Of Dating  \\\n",
       "User_ID                                                                     \n",
       "8                                          NaN                        NaN   \n",
       "9                                          NaN                        NaN   \n",
       "10                                         NaN                        NaN   \n",
       "12                                         NaN                        NaN   \n",
       "14                                         NaN                        NaN   \n",
       "\n",
       "Book_Title  100 Great Fantasy Short, Short Stories  ...  \\\n",
       "User_ID                                             ...   \n",
       "8                                              NaN  ...   \n",
       "9                                              NaN  ...   \n",
       "10                                             NaN  ...   \n",
       "12                                             NaN  ...   \n",
       "14                                             NaN  ...   \n",
       "\n",
       "Book_Title  Zora Hurston and the Chinaberry Tree (Reading Rainbow Book)  \\\n",
       "User_ID                                                                   \n",
       "8                                                         NaN             \n",
       "9                                                         NaN             \n",
       "10                                                        NaN             \n",
       "12                                                        NaN             \n",
       "14                                                        NaN             \n",
       "\n",
       "Book_Title  \\Even Monkeys Fall from Trees\\ and Other Japanese Proverbs  \\\n",
       "User_ID                                                                  \n",
       "8                                                         NaN            \n",
       "9                                                         NaN            \n",
       "10                                                        NaN            \n",
       "12                                                        NaN            \n",
       "14                                                        NaN            \n",
       "\n",
       "Book_Title  \\I Won't Learn from You\\: And Other Thoughts on Creative Maladjustment  \\\n",
       "User_ID                                                                              \n",
       "8                                                         NaN                        \n",
       "9                                                         NaN                        \n",
       "10                                                        NaN                        \n",
       "12                                                        NaN                        \n",
       "14                                                        NaN                        \n",
       "\n",
       "Book_Title  \\More More More,\\ Said the Baby  \\O\\ Is for Outlaw  \\\n",
       "User_ID                                                          \n",
       "8                                       NaN                NaN   \n",
       "9                                       NaN                NaN   \n",
       "10                                      NaN                NaN   \n",
       "12                                      NaN                NaN   \n",
       "14                                      NaN                NaN   \n",
       "\n",
       "Book_Title  \\Surely You're Joking, Mr. Feynman!\\: Adventures of a Curious Character  \\\n",
       "User_ID                                                                               \n",
       "8                                                         NaN                         \n",
       "9                                                         NaN                         \n",
       "10                                                        NaN                         \n",
       "12                                                        NaN                         \n",
       "14                                                        NaN                         \n",
       "\n",
       "Book_Title  \\Well, there's your problem\\: Cartoons  iI Paradiso Degli Orchi  \\\n",
       "User_ID                                                                       \n",
       "8                                              NaN                      NaN   \n",
       "9                                              NaN                      NaN   \n",
       "10                                             NaN                      NaN   \n",
       "12                                             NaN                      NaN   \n",
       "14                                             NaN                      NaN   \n",
       "\n",
       "Book_Title  stardust  �?�?bermorgen.  \n",
       "User_ID                               \n",
       "8                NaN             NaN  \n",
       "9                NaN             NaN  \n",
       "10               NaN             NaN  \n",
       "12               NaN             NaN  \n",
       "14               NaN             NaN  \n",
       "\n",
       "[5 rows x 9659 columns]"
      ]
     },
     "execution_count": 39,
     "metadata": {},
     "output_type": "execute_result"
    }
   ],
   "source": [
    "book_df = df.pivot_table(index='User_ID',columns='Book_Title',values='Book_Rating')\n",
    "book_df.head()"
   ]
  },
  {
   "cell_type": "code",
   "execution_count": 46,
   "metadata": {
    "ExecuteTime": {
     "end_time": "2021-05-22T17:48:29.707912Z",
     "start_time": "2021-05-22T17:48:29.683929Z"
    }
   },
   "outputs": [
    {
     "data": {
      "text/html": [
       "<div>\n",
       "<style scoped>\n",
       "    .dataframe tbody tr th:only-of-type {\n",
       "        vertical-align: middle;\n",
       "    }\n",
       "\n",
       "    .dataframe tbody tr th {\n",
       "        vertical-align: top;\n",
       "    }\n",
       "\n",
       "    .dataframe thead th {\n",
       "        text-align: right;\n",
       "    }\n",
       "</style>\n",
       "<table border=\"1\" class=\"dataframe\">\n",
       "  <thead>\n",
       "    <tr style=\"text-align: right;\">\n",
       "      <th></th>\n",
       "      <th>Book_Rating</th>\n",
       "      <th>num of ratings</th>\n",
       "    </tr>\n",
       "    <tr>\n",
       "      <th>Book_Title</th>\n",
       "      <th></th>\n",
       "      <th></th>\n",
       "    </tr>\n",
       "  </thead>\n",
       "  <tbody>\n",
       "    <tr>\n",
       "      <th>Fahrenheit 451</th>\n",
       "      <td>7.000000</td>\n",
       "      <td>5</td>\n",
       "    </tr>\n",
       "    <tr>\n",
       "      <th>Ender's Game (Ender Wiggins Saga (Paperback))</th>\n",
       "      <td>6.250000</td>\n",
       "      <td>4</td>\n",
       "    </tr>\n",
       "    <tr>\n",
       "      <th>Stardust</th>\n",
       "      <td>8.500000</td>\n",
       "      <td>4</td>\n",
       "    </tr>\n",
       "    <tr>\n",
       "      <th>Vanished</th>\n",
       "      <td>6.500000</td>\n",
       "      <td>4</td>\n",
       "    </tr>\n",
       "    <tr>\n",
       "      <th>Charlie and the Chocolate Factory</th>\n",
       "      <td>6.500000</td>\n",
       "      <td>4</td>\n",
       "    </tr>\n",
       "    <tr>\n",
       "      <th>The Subtle Knife (His Dark Materials, Book 2)</th>\n",
       "      <td>8.750000</td>\n",
       "      <td>4</td>\n",
       "    </tr>\n",
       "    <tr>\n",
       "      <th>The Amber Spyglass (His Dark Materials, Book 3)</th>\n",
       "      <td>8.250000</td>\n",
       "      <td>4</td>\n",
       "    </tr>\n",
       "    <tr>\n",
       "      <th>The Golden Compass (His Dark Materials, Book 1)</th>\n",
       "      <td>8.333333</td>\n",
       "      <td>3</td>\n",
       "    </tr>\n",
       "    <tr>\n",
       "      <th>Pet Sematary</th>\n",
       "      <td>7.666667</td>\n",
       "      <td>3</td>\n",
       "    </tr>\n",
       "    <tr>\n",
       "      <th>My Side of the Mountain</th>\n",
       "      <td>8.000000</td>\n",
       "      <td>3</td>\n",
       "    </tr>\n",
       "  </tbody>\n",
       "</table>\n",
       "</div>"
      ],
      "text/plain": [
       "                                                 Book_Rating  num of ratings\n",
       "Book_Title                                                                  \n",
       "Fahrenheit 451                                      7.000000               5\n",
       "Ender's Game (Ender Wiggins Saga (Paperback))       6.250000               4\n",
       "Stardust                                            8.500000               4\n",
       "Vanished                                            6.500000               4\n",
       "Charlie and the Chocolate Factory                   6.500000               4\n",
       "The Subtle Knife (His Dark Materials, Book 2)       8.750000               4\n",
       "The Amber Spyglass (His Dark Materials, Book 3)     8.250000               4\n",
       "The Golden Compass (His Dark Materials, Book 1)     8.333333               3\n",
       "Pet Sematary                                        7.666667               3\n",
       "My Side of the Mountain                             8.000000               3"
      ]
     },
     "execution_count": 46,
     "metadata": {},
     "output_type": "execute_result"
    }
   ],
   "source": [
    "ratings.sort_values('num of ratings',ascending=False).head(10)"
   ]
  },
  {
   "cell_type": "code",
   "execution_count": 47,
   "metadata": {
    "ExecuteTime": {
     "end_time": "2021-05-22T17:48:31.138980Z",
     "start_time": "2021-05-22T17:48:31.119991Z"
    }
   },
   "outputs": [
    {
     "data": {
      "text/html": [
       "<div>\n",
       "<style scoped>\n",
       "    .dataframe tbody tr th:only-of-type {\n",
       "        vertical-align: middle;\n",
       "    }\n",
       "\n",
       "    .dataframe tbody tr th {\n",
       "        vertical-align: top;\n",
       "    }\n",
       "\n",
       "    .dataframe thead th {\n",
       "        text-align: right;\n",
       "    }\n",
       "</style>\n",
       "<table border=\"1\" class=\"dataframe\">\n",
       "  <thead>\n",
       "    <tr style=\"text-align: right;\">\n",
       "      <th></th>\n",
       "      <th>Book_Rating</th>\n",
       "      <th>num of ratings</th>\n",
       "    </tr>\n",
       "    <tr>\n",
       "      <th>Book_Title</th>\n",
       "      <th></th>\n",
       "      <th></th>\n",
       "    </tr>\n",
       "  </thead>\n",
       "  <tbody>\n",
       "    <tr>\n",
       "      <th>Jason, Madison &amp;amp</th>\n",
       "      <td>8.0</td>\n",
       "      <td>1</td>\n",
       "    </tr>\n",
       "    <tr>\n",
       "      <th>Other Stories;Merril;1985;McClelland &amp;amp</th>\n",
       "      <td>6.0</td>\n",
       "      <td>1</td>\n",
       "    </tr>\n",
       "    <tr>\n",
       "      <th>Repairing PC Drives &amp;amp</th>\n",
       "      <td>4.0</td>\n",
       "      <td>1</td>\n",
       "    </tr>\n",
       "    <tr>\n",
       "      <th>'48</th>\n",
       "      <td>7.0</td>\n",
       "      <td>1</td>\n",
       "    </tr>\n",
       "    <tr>\n",
       "      <th>'O Au No Keia: Voices from Hawai'I's Mahu and Transgender Communities</th>\n",
       "      <td>8.0</td>\n",
       "      <td>1</td>\n",
       "    </tr>\n",
       "  </tbody>\n",
       "</table>\n",
       "</div>"
      ],
      "text/plain": [
       "                                                    Book_Rating  \\\n",
       "Book_Title                                                        \n",
       " Jason, Madison &amp                                        8.0   \n",
       " Other Stories;Merril;1985;McClelland &amp                  6.0   \n",
       " Repairing PC Drives &amp                                   4.0   \n",
       "'48                                                         7.0   \n",
       "'O Au No Keia: Voices from Hawai'I's Mahu and T...          8.0   \n",
       "\n",
       "                                                    num of ratings  \n",
       "Book_Title                                                          \n",
       " Jason, Madison &amp                                             1  \n",
       " Other Stories;Merril;1985;McClelland &amp                       1  \n",
       " Repairing PC Drives &amp                                        1  \n",
       "'48                                                              1  \n",
       "'O Au No Keia: Voices from Hawai'I's Mahu and T...               1  "
      ]
     },
     "execution_count": 47,
     "metadata": {},
     "output_type": "execute_result"
    }
   ],
   "source": [
    "ratings.head()"
   ]
  },
  {
   "cell_type": "code",
   "execution_count": 15,
   "metadata": {
    "ExecuteTime": {
     "end_time": "2021-05-22T17:24:00.430793Z",
     "start_time": "2021-05-22T17:24:00.412806Z"
    }
   },
   "outputs": [
    {
     "data": {
      "text/plain": [
       "User_ID\n",
       "8    NaN\n",
       "9    NaN\n",
       "10   NaN\n",
       "12   NaN\n",
       "14   NaN\n",
       "Name: Stardust, dtype: float64"
      ]
     },
     "execution_count": 15,
     "metadata": {},
     "output_type": "execute_result"
    }
   ],
   "source": [
    "Fahrenheit_user_ratings = book_df['Fahrenheit 451']\n",
    "Stardust_user_ratings = book_df['Stardust']\n",
    "Fahrenheit_user_ratings.head()\n",
    "Stardust_user_ratings.head()"
   ]
  },
  {
   "cell_type": "code",
   "execution_count": 41,
   "metadata": {
    "ExecuteTime": {
     "end_time": "2021-05-22T17:45:06.242850Z",
     "start_time": "2021-05-22T17:45:01.027592Z"
    }
   },
   "outputs": [
    {
     "name": "stderr",
     "output_type": "stream",
     "text": [
      "C:\\Users\\SARTHAK\\anaconda3\\lib\\site-packages\\numpy\\lib\\function_base.py:2634: RuntimeWarning: Degrees of freedom <= 0 for slice\n",
      "  c = cov(x, y, rowvar, dtype=dtype)\n",
      "C:\\Users\\SARTHAK\\anaconda3\\lib\\site-packages\\numpy\\lib\\function_base.py:2493: RuntimeWarning: divide by zero encountered in true_divide\n",
      "  c *= np.true_divide(1, fact)\n"
     ]
    }
   ],
   "source": [
    "similar_to_Fahrenheit = book_df.corrwith(Fahrenheit_user_ratings)"
   ]
  },
  {
   "cell_type": "code",
   "execution_count": 42,
   "metadata": {
    "ExecuteTime": {
     "end_time": "2021-05-22T17:45:06.306822Z",
     "start_time": "2021-05-22T17:45:06.253853Z"
    }
   },
   "outputs": [
    {
     "data": {
      "text/html": [
       "<div>\n",
       "<style scoped>\n",
       "    .dataframe tbody tr th:only-of-type {\n",
       "        vertical-align: middle;\n",
       "    }\n",
       "\n",
       "    .dataframe tbody tr th {\n",
       "        vertical-align: top;\n",
       "    }\n",
       "\n",
       "    .dataframe thead th {\n",
       "        text-align: right;\n",
       "    }\n",
       "</style>\n",
       "<table border=\"1\" class=\"dataframe\">\n",
       "  <thead>\n",
       "    <tr style=\"text-align: right;\">\n",
       "      <th></th>\n",
       "      <th>Correlation</th>\n",
       "    </tr>\n",
       "    <tr>\n",
       "      <th>Book_Title</th>\n",
       "      <th></th>\n",
       "    </tr>\n",
       "  </thead>\n",
       "  <tbody>\n",
       "    <tr>\n",
       "      <th>Fahrenheit 451</th>\n",
       "      <td>1.0</td>\n",
       "    </tr>\n",
       "  </tbody>\n",
       "</table>\n",
       "</div>"
      ],
      "text/plain": [
       "                Correlation\n",
       "Book_Title                 \n",
       "Fahrenheit 451          1.0"
      ]
     },
     "execution_count": 42,
     "metadata": {},
     "output_type": "execute_result"
    }
   ],
   "source": [
    "corr_Fahrenheit = pd.DataFrame(similar_to_Fahrenheit, columns=['Correlation'])\n",
    "corr_Fahrenheit.dropna(inplace=True)\n",
    "corr_Fahrenheit.head()"
   ]
  },
  {
   "cell_type": "code",
   "execution_count": 19,
   "metadata": {
    "ExecuteTime": {
     "end_time": "2021-05-22T17:26:07.574818Z",
     "start_time": "2021-05-22T17:26:07.556829Z"
    }
   },
   "outputs": [
    {
     "data": {
      "text/html": [
       "<div>\n",
       "<style scoped>\n",
       "    .dataframe tbody tr th:only-of-type {\n",
       "        vertical-align: middle;\n",
       "    }\n",
       "\n",
       "    .dataframe tbody tr th {\n",
       "        vertical-align: top;\n",
       "    }\n",
       "\n",
       "    .dataframe thead th {\n",
       "        text-align: right;\n",
       "    }\n",
       "</style>\n",
       "<table border=\"1\" class=\"dataframe\">\n",
       "  <thead>\n",
       "    <tr style=\"text-align: right;\">\n",
       "      <th></th>\n",
       "      <th>Correlation</th>\n",
       "    </tr>\n",
       "    <tr>\n",
       "      <th>Book_Title</th>\n",
       "      <th></th>\n",
       "    </tr>\n",
       "  </thead>\n",
       "  <tbody>\n",
       "    <tr>\n",
       "      <th>Fahrenheit 451</th>\n",
       "      <td>1.0</td>\n",
       "    </tr>\n",
       "  </tbody>\n",
       "</table>\n",
       "</div>"
      ],
      "text/plain": [
       "                Correlation\n",
       "Book_Title                 \n",
       "Fahrenheit 451          1.0"
      ]
     },
     "execution_count": 19,
     "metadata": {},
     "output_type": "execute_result"
    }
   ],
   "source": [
    "#依照最相關開始排列\n",
    "corr_Fahrenheit.sort_values('Correlation',ascending=False).head()"
   ]
  },
  {
   "cell_type": "code",
   "execution_count": 20,
   "metadata": {
    "ExecuteTime": {
     "end_time": "2021-05-22T17:26:33.134240Z",
     "start_time": "2021-05-22T17:26:33.108258Z"
    }
   },
   "outputs": [
    {
     "data": {
      "text/html": [
       "<div>\n",
       "<style scoped>\n",
       "    .dataframe tbody tr th:only-of-type {\n",
       "        vertical-align: middle;\n",
       "    }\n",
       "\n",
       "    .dataframe tbody tr th {\n",
       "        vertical-align: top;\n",
       "    }\n",
       "\n",
       "    .dataframe thead th {\n",
       "        text-align: right;\n",
       "    }\n",
       "</style>\n",
       "<table border=\"1\" class=\"dataframe\">\n",
       "  <thead>\n",
       "    <tr style=\"text-align: right;\">\n",
       "      <th></th>\n",
       "      <th>Correlation</th>\n",
       "      <th>num of ratings</th>\n",
       "    </tr>\n",
       "    <tr>\n",
       "      <th>Book_Title</th>\n",
       "      <th></th>\n",
       "      <th></th>\n",
       "    </tr>\n",
       "  </thead>\n",
       "  <tbody>\n",
       "    <tr>\n",
       "      <th>Fahrenheit 451</th>\n",
       "      <td>1.0</td>\n",
       "      <td>5</td>\n",
       "    </tr>\n",
       "  </tbody>\n",
       "</table>\n",
       "</div>"
      ],
      "text/plain": [
       "                Correlation  num of ratings\n",
       "Book_Title                                 \n",
       "Fahrenheit 451          1.0               5"
      ]
     },
     "execution_count": 20,
     "metadata": {},
     "output_type": "execute_result"
    }
   ],
   "source": [
    "#除了與star wats的相關度，也加上其他電影的評價數，有些電影評價可能只有非常少數\n",
    "corr_Fahrenheit = corr_Fahrenheit.join(ratings['num of ratings'])\n",
    "corr_Fahrenheit.head()"
   ]
  },
  {
   "cell_type": "code",
   "execution_count": 28,
   "metadata": {
    "ExecuteTime": {
     "end_time": "2021-05-22T17:40:32.818962Z",
     "start_time": "2021-05-22T17:40:32.791977Z"
    }
   },
   "outputs": [
    {
     "data": {
      "text/html": [
       "<div>\n",
       "<style scoped>\n",
       "    .dataframe tbody tr th:only-of-type {\n",
       "        vertical-align: middle;\n",
       "    }\n",
       "\n",
       "    .dataframe tbody tr th {\n",
       "        vertical-align: top;\n",
       "    }\n",
       "\n",
       "    .dataframe thead th {\n",
       "        text-align: right;\n",
       "    }\n",
       "</style>\n",
       "<table border=\"1\" class=\"dataframe\">\n",
       "  <thead>\n",
       "    <tr style=\"text-align: right;\">\n",
       "      <th></th>\n",
       "      <th>Correlation</th>\n",
       "      <th>num of ratings</th>\n",
       "    </tr>\n",
       "    <tr>\n",
       "      <th>Book_Title</th>\n",
       "      <th></th>\n",
       "      <th></th>\n",
       "    </tr>\n",
       "  </thead>\n",
       "  <tbody>\n",
       "    <tr>\n",
       "      <th>Fahrenheit 451</th>\n",
       "      <td>1.0</td>\n",
       "      <td>5</td>\n",
       "    </tr>\n",
       "  </tbody>\n",
       "</table>\n",
       "</div>"
      ],
      "text/plain": [
       "                Correlation  num of ratings\n",
       "Book_Title                                 \n",
       "Fahrenheit 451          1.0               5"
      ]
     },
     "execution_count": 28,
     "metadata": {},
     "output_type": "execute_result"
    }
   ],
   "source": [
    "#避免太多人看過star wats，但少數電影只有少數人給過評價，而給出錯誤的推薦，因此限定評價超過100個\n",
    "corr_Fahrenheit[corr_Fahrenheit['num of ratings']>1].sort_values('Correlation',ascending=False).head()"
   ]
  },
  {
   "cell_type": "code",
   "execution_count": 29,
   "metadata": {
    "ExecuteTime": {
     "end_time": "2021-05-22T17:40:37.173323Z",
     "start_time": "2021-05-22T17:40:33.983909Z"
    }
   },
   "outputs": [
    {
     "name": "stderr",
     "output_type": "stream",
     "text": [
      "C:\\Users\\SARTHAK\\anaconda3\\lib\\site-packages\\numpy\\lib\\function_base.py:2634: RuntimeWarning: Degrees of freedom <= 0 for slice\n",
      "  c = cov(x, y, rowvar, dtype=dtype)\n",
      "C:\\Users\\SARTHAK\\anaconda3\\lib\\site-packages\\numpy\\lib\\function_base.py:2493: RuntimeWarning: divide by zero encountered in true_divide\n",
      "  c *= np.true_divide(1, fact)\n"
     ]
    }
   ],
   "source": [
    "#找出和Liar Liar相關的電影\n",
    "similar_to_Stardust = book_df.corrwith(Stardust_user_ratings)"
   ]
  },
  {
   "cell_type": "code",
   "execution_count": 33,
   "metadata": {
    "ExecuteTime": {
     "end_time": "2021-05-22T17:42:05.455016Z",
     "start_time": "2021-05-22T17:42:05.415020Z"
    }
   },
   "outputs": [
    {
     "data": {
      "text/html": [
       "<div>\n",
       "<style scoped>\n",
       "    .dataframe tbody tr th:only-of-type {\n",
       "        vertical-align: middle;\n",
       "    }\n",
       "\n",
       "    .dataframe tbody tr th {\n",
       "        vertical-align: top;\n",
       "    }\n",
       "\n",
       "    .dataframe thead th {\n",
       "        text-align: right;\n",
       "    }\n",
       "</style>\n",
       "<table border=\"1\" class=\"dataframe\">\n",
       "  <thead>\n",
       "    <tr style=\"text-align: right;\">\n",
       "      <th></th>\n",
       "      <th>Correlation</th>\n",
       "      <th>num of ratings</th>\n",
       "    </tr>\n",
       "    <tr>\n",
       "      <th>Book_Title</th>\n",
       "      <th></th>\n",
       "      <th></th>\n",
       "    </tr>\n",
       "  </thead>\n",
       "  <tbody>\n",
       "    <tr>\n",
       "      <th>Stardust</th>\n",
       "      <td>1.0</td>\n",
       "      <td>4</td>\n",
       "    </tr>\n",
       "  </tbody>\n",
       "</table>\n",
       "</div>"
      ],
      "text/plain": [
       "            Correlation  num of ratings\n",
       "Book_Title                             \n",
       "Stardust            1.0               4"
      ]
     },
     "execution_count": 33,
     "metadata": {},
     "output_type": "execute_result"
    }
   ],
   "source": [
    "corr_Stardust = pd.DataFrame(similar_to_Stardust,columns=['Correlation'])\n",
    "corr_Stardust.dropna(inplace=True)\n",
    "corr_Stardust = corr_Stardust.join(ratings['num of ratings'])\n",
    "corr_Stardust[corr_Stardust['num of ratings']>1].sort_values('Correlation',ascending=False).head()"
   ]
  },
  {
   "cell_type": "code",
   "execution_count": null,
   "metadata": {
    "collapsed": true
   },
   "outputs": [],
   "source": []
  }
 ],
 "metadata": {
  "kernelspec": {
   "display_name": "Python 3",
   "language": "python",
   "name": "python3"
  },
  "language_info": {
   "codemirror_mode": {
    "name": "ipython",
    "version": 3
   },
   "file_extension": ".py",
   "mimetype": "text/x-python",
   "name": "python",
   "nbconvert_exporter": "python",
   "pygments_lexer": "ipython3",
   "version": "3.8.8"
  }
 },
 "nbformat": 4,
 "nbformat_minor": 2
}
